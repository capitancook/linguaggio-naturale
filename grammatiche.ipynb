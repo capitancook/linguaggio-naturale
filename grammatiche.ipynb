{
 "cells": [
  {
   "cell_type": "markdown",
   "metadata": {},
   "source": [
    "# Elaborazione del linguaggio naturale\n",
    "\n",
    "## Le grammatiche context free\n",
    "\n",
    "Per poter eseguire questo notebook dobbiamo installare la libreria nltk (Natural Language Toolkit).\n",
    "Quindi apriamo la finestra dei comandi di Windows o il terminale del Mac e facciamo eseguire i seguenti comandi:\n",
    "```\n",
    "pip install nltk\n",
    "```\n",
    "Se ottenete un errore di installazione come: \n",
    "ERROR: Could not install packages due to an OSError: [WinError 2] Impossibile trovare il file specificato:...\n",
    "potete provare a installare la libreria con il seguente comando:\n",
    "```\n",
    "pip install nltk --user\n",
    "```\n"
   ]
  },
  {
   "cell_type": "markdown",
   "metadata": {},
   "source": [
    "Adesso importiamo la libreria nltk e creiamo una grammatica context free per una frase tipo composta da un frase nominale seguita da una frase verbale.\n",
    "\n",
    "La frase nominale è composta da un articolo determinativo e un nome oppure da un nome oppure da un articolo non determinativo e un nome.\n",
    "\n",
    "La frase verbale è composta da un verbo o da un verbo seguito da una frase nominale.\n"
   ]
  },
  {
   "cell_type": "code",
   "execution_count": 5,
   "metadata": {},
   "outputs": [],
   "source": [
    "import nltk\n",
    "\n",
    "grammatica = nltk.CFG.fromstring(\"\"\"\n",
    "    S1 -> FN FV\n",
    "\n",
    "    FN -> D N | N | ND N\n",
    "    FV -> V | V FN\n",
    "\n",
    "    D -> \"la\" | \"il\"\n",
    "    ND -> \"un\" | \"una\"\n",
    "    N -> \"lei\" | \"lui\" | \"macchina\" | \"mela\" | \"io\"\n",
    "    V -> \"vedeva\" | \"camminava\" | \"è\" | \"mangia\" | \"mangio\" | \"guidava\"\n",
    "\"\"\")\n",
    "\n",
    "analizzatore = nltk.ChartParser(grammatica)"
   ]
  },
  {
   "cell_type": "markdown",
   "metadata": {},
   "source": [
    "Come potete vedere la descrizione della grammatica della struttura della frase che vogliamo analizzare è molto semplice:\n",
    "```\n",
    "S1 -> FN FV\n",
    "\n",
    "    FN -> D N | N | ND N\n",
    "    FV -> V | V FN\n",
    "\n",
    "    D -> \"la\" | \"il\"\n",
    "    ND -> \"un\" | \"una\"\n",
    "    N -> \"lei\" | \"lui\" | \"macchina\" | \"mela\" | \"io\"\n",
    "    V -> \"vedeva\" | \"camminava\" | \"è\" | \"mangia\" | \"mangio\" \n",
    "```\n",
    "Se fate eseguire la cella di codice qui sotto vi sarà chiesto di inserire una frase in Italiano da esaminare.\n",
    "Se il parser"
   ]
  },
  {
   "cell_type": "code",
   "execution_count": 6,
   "metadata": {},
   "outputs": [
    {
     "name": "stdout",
     "output_type": "stream",
     "text": [
      "['lei', 'guidava', 'la', 'macchina']\n",
      "             S1                 \n",
      "  ___________|___                \n",
      " |               FV             \n",
      " |      _________|___            \n",
      " FN    |             FN         \n",
      " |     |          ___|_____      \n",
      " N     V         D         N    \n",
      " |     |         |         |     \n",
      "lei guidava      la     macchina\n",
      "\n"
     ]
    }
   ],
   "source": [
    "frase = input(\"Digita una frase: \").split()\n",
    "print(frase)\n",
    "try:\n",
    "    for alberoSintattico in analizzatore.parse(frase):\n",
    "        alberoSintattico.pretty_print()\n",
    "        alberoSintattico.draw()\n",
    "except ValueError:\n",
    "    print(\"Non è possibile creare un albero di analisi sintattica. La frase inserita non segue la grammatica definita\")"
   ]
  },
  {
   "cell_type": "markdown",
   "metadata": {},
   "source": [
    "Possiamo inserire una grammatica più complessa per analizzare una varietà maggiore di frasi"
   ]
  },
  {
   "cell_type": "code",
   "execution_count": 8,
   "metadata": {},
   "outputs": [
    {
     "name": "stdout",
     "output_type": "stream",
     "text": [
      "['she', 'saw', 'the', 'car']\n",
      "         S             \n",
      "  _______|___           \n",
      " |           VP        \n",
      " |    _______|___       \n",
      " |   |           NP    \n",
      " |   |        ___|___   \n",
      " NP  |       |       NP\n",
      " |   |       |       |  \n",
      " N   V       D       N \n",
      " |   |       |       |  \n",
      "she saw     the     car\n",
      "\n"
     ]
    }
   ],
   "source": [
    "grammatica2 = nltk.CFG.fromstring(\"\"\"\n",
    "    S -> NP VP\n",
    "\n",
    "    AP -> A | A AP\n",
    "    NP -> N | D NP | AP NP | N PP\n",
    "    PP -> P NP\n",
    "    VP -> V | V NP | V NP PP\n",
    "\n",
    "    A -> \"big\" | \"blue\" | \"small\" | \"dry\" | \"wide\"\n",
    "    D -> \"the\" | \"a\" | \"an\"\n",
    "    N -> \"she\" | \"city\" | \"car\" | \"street\" | \"dog\" | \"binoculars\" | \"Mario\" | \"apple\" | \"table\" | \"truck\"\n",
    "    P -> \"on\" | \"over\" | \"before\" | \"below\" | \"with\"\n",
    "    V -> \"saw\" | \"walked\" | \"parked\" \n",
    "\"\"\")\n",
    "\n",
    "analizzatoreSintattico2 = nltk.ChartParser(grammatica2)\n",
    "\n",
    "frase = input(\"Digita una frase: \").split()\n",
    "print(frase)\n",
    "try:\n",
    "    for tree in analizzatoreSintattico2.parse(frase):\n",
    "        tree.pretty_print()\n",
    "        tree.draw()\n",
    "        break\n",
    "except ValueError:\n",
    "    print(\"Non è possibile creare un albero di analisi sintattica. La frase inserita non segue la grammatica definita\")"
   ]
  }
 ],
 "metadata": {
  "interpreter": {
   "hash": "27790848d2f697d033d515d6398d3508bf4a8733d68ef0aee9b2086a7f9df1cf"
  },
  "kernelspec": {
   "display_name": "Python 3.9.8 64-bit (windows store)",
   "language": "python",
   "name": "python3"
  },
  "language_info": {
   "codemirror_mode": {
    "name": "ipython",
    "version": 3
   },
   "file_extension": ".py",
   "mimetype": "text/x-python",
   "name": "python",
   "nbconvert_exporter": "python",
   "pygments_lexer": "ipython3",
   "version": "3.9.5"
  },
  "orig_nbformat": 4
 },
 "nbformat": 4,
 "nbformat_minor": 2
}
