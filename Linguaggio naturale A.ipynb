{
 "cells": [
  {
   "cell_type": "markdown",
   "metadata": {},
   "source": [
    "<a href=\"https://colab.research.google.com/github/capitanio/linguaggio-naturale/blob/master/Linguaggio naturale A.ipynb\"><img align=\"left\" src=\"https://colab.research.google.com/assets/colab-badge.svg\" alt=\"Open in Colab\" title=\"Open and Execute in Google Colaboratory\"></a>"
   ]
  },
  {
   "cell_type": "markdown",
   "metadata": {},
   "source": [
    "# Elaborazione del linguaggio naturale\n",
    "\n",
    "## Token-izzazione\n",
    "\n",
    "Per elaborare un testo in Italiano la nostra AI ha bisogno di tokenizzarlo.\n"
   ]
  },
  {
   "cell_type": "code",
   "execution_count": 9,
   "metadata": {},
   "outputs": [],
   "source": [
    "import nltk\n",
    "# nltk.download('punkt')\n"
   ]
  },
  {
   "cell_type": "markdown",
   "metadata": {},
   "source": [
    "Adesso importiamo il tokenizzatore per frasi (sentence in inglese) libreria nltk e procediamo alla tokenizzazione"
   ]
  },
  {
   "cell_type": "code",
   "execution_count": 10,
   "metadata": {},
   "outputs": [
    {
     "name": "stdout",
     "output_type": "stream",
     "text": [
      "Output data (via Sentence Tokenizer):\n",
      "\tCiao, mi chiamo Carlo e ho 18 anni. |\n",
      "\tOggi vorrei parlarvi della mia tipica giornata. |\n",
      "\tMi alzo sempre alle 7:00 e faccio una buona colazione con tè e biscotti. |\n",
      "\tDopo aver incontrato il mio amico Marco prendo alle 7:40 l'autobus che mi porta a scuola. |\n",
      "\tMi piace molto la mia scuola perché ho molte materie che riguardano il mondo dell'informatica! |\n",
      "\tOgni giorno ho 6 ore di lezione, tranne il sabato in cui ne ho 5. |\n"
     ]
    }
   ],
   "source": [
    "\n",
    "from nltk.tokenize import sent_tokenize\n",
    "text_run = \"\"\"Ciao, mi chiamo Carlo e ho 18 anni. Oggi vorrei parlarvi della mia tipica giornata. Mi alzo sempre alle 7:00 e faccio una buona colazione con tè e biscotti.\n",
    "Dopo aver incontrato il mio amico Marco prendo alle 7:40 l'autobus che mi porta a scuola.\n",
    "Mi piace molto la mia scuola perché ho molte materie che riguardano il mondo dell'informatica! Ogni giorno ho 6 ore di lezione, tranne il sabato in cui ne ho 5.\"\"\"\n",
    "sentence_tokenizer_output = sent_tokenize(text_run)\n",
    "print('Output data (via Sentence Tokenizer):') \n",
    "for token in sentence_tokenizer_output:    \n",
    "    print('\\t{}'.format(token),\"|\")"
   ]
  },
  {
   "cell_type": "markdown",
   "metadata": {},
   "source": [
    "Adesso importiamo il tokenizzatore per parole (word in inglese) libreria nltk e procediamo alla tokenizzazione"
   ]
  },
  {
   "cell_type": "code",
   "execution_count": null,
   "metadata": {},
   "outputs": [],
   "source": [
    "\n",
    "from nltk.tokenize import word_tokenize\n",
    "text_run = \"\"\"Ciao, mi chiamo Carlo e ho 18 anni. Oggi vorrei parlarvi della mia tipica giornata. Mi alzo sempre alle 7:00 e faccio una buona colazione con tè e biscotti.\n",
    "Dopo aver incontrato il mio amico Marco prendo alle 7:40 l'autobus che mi porta a scuola.\n",
    "Mi piace molto la mia scuola perché ho molte materie che riguardano il mondo dell'informatica! Ogni giorno ho 6 ore di lezione, tranne il sabato in cui ne ho 5.\"\"\"\n",
    "word_tokenizer_output = word_tokenize(text_run)\n",
    "print('Output data (via word Tokenizer):') \n",
    "for token in word_tokenizer_output:    \n",
    "    print('\\t{}'.format(token),\"|\")"
   ]
  },
  {
   "cell_type": "markdown",
   "metadata": {},
   "source": [
    "Se ci avete fatto caso, i token estratti contengono anche i segni di punteggiatura questo non va bene perché disturbano lo studio delle parole.\n",
    "Possiamo  personalizzare il tokenizzatore con una espressione regolare (???).\n",
    "A questo scopo carichiamoci lo strumento di personalizzazione di tokenizzazione di nltk"
   ]
  },
  {
   "cell_type": "code",
   "execution_count": 8,
   "metadata": {},
   "outputs": [],
   "source": [
    "from nltk.tokenize import RegexpTokenizer"
   ]
  },
  {
   "cell_type": "markdown",
   "metadata": {},
   "source": [
    "e personalizziamo la scomposizione in token con una espressione regolare che considera parole le sequende di carattaeri alfanumerici contigue anche con carattere '_' ma non considera i segni di punteggiatura e altri simboli."
   ]
  },
  {
   "cell_type": "code",
   "execution_count": null,
   "metadata": {},
   "outputs": [],
   "source": [
    "custom_tokenizer = RegexpTokenizer('\\w+')"
   ]
  },
  {
   "cell_type": "markdown",
   "metadata": {},
   "source": [
    "Scomponiamo lo stesso testo con il nuovo tokenizzatore."
   ]
  },
  {
   "cell_type": "code",
   "execution_count": null,
   "metadata": {},
   "outputs": [],
   "source": [
    "custom_tokenizer_output = custom_tokenizer.tokenize(text_run)\n",
    "print('Output data (via Custom Tokenizer):')\n",
    "for token in custom_tokenizer_output:\n",
    "    print('\\t{}'.format(token))"
   ]
  },
  {
   "cell_type": "markdown",
   "metadata": {},
   "source": [
    "# Leggiamo il \"giornale\"\n",
    "Prepariamo tutto il necessario"
   ]
  },
  {
   "cell_type": "code",
   "execution_count": null,
   "metadata": {},
   "outputs": [],
   "source": [
    "# !pip install newspaper3k # decommentare e eseguire se la libreria non è installata sulla macchina"
   ]
  },
  {
   "cell_type": "code",
   "execution_count": 2,
   "metadata": {},
   "outputs": [],
   "source": [
    "from newspaper import Article\n",
    "article = Article('https://www.repubblica.it/il-gusto/2022/11/25/news/la_bagna_cauda_piace_a_tutti_da_asti_alleuropa_a_new_york-375987028/')\n",
    "article.download()\n",
    "article.parse()\n",
    "article.nlp()"
   ]
  },
  {
   "cell_type": "markdown",
   "metadata": {},
   "source": [
    "CHi sono gli autori?"
   ]
  },
  {
   "cell_type": "code",
   "execution_count": 3,
   "metadata": {},
   "outputs": [
    {
     "data": {
      "text/plain": [
       "['Dalla Nostra Inviata',\n",
       " 'Elisabetta Pagani',\n",
       " 'Di',\n",
       " 'Eleonora Cozzella',\n",
       " 'A Cura Di',\n",
       " 'Lara De Luna',\n",
       " 'Di Antonella Donati',\n",
       " 'Di Pasquale Raicaldo',\n",
       " 'Di Lara Loreti',\n",
       " 'Di Annacarla Tredici']"
      ]
     },
     "execution_count": 3,
     "metadata": {},
     "output_type": "execute_result"
    }
   ],
   "source": [
    "\n",
    "article.authors\n"
   ]
  },
  {
   "cell_type": "markdown",
   "metadata": {},
   "source": [
    "Quali sono le parole chiavi dell'articolo?"
   ]
  },
  {
   "cell_type": "code",
   "execution_count": 4,
   "metadata": {},
   "outputs": [
    {
     "data": {
      "text/plain": [
       "['nuovi',\n",
       " 'la',\n",
       " 'che',\n",
       " 'nuovo',\n",
       " 'stella',\n",
       " 'michelin',\n",
       " 'il',\n",
       " 'novità',\n",
       " 'stelle',\n",
       " 'san',\n",
       " 'nessun',\n",
       " 'nelle',\n",
       " 'sola',\n",
       " 'della',\n",
       " 'ristoranti',\n",
       " 'una',\n",
       " 'tre',\n",
       " 'di',\n",
       " 'le']"
      ]
     },
     "execution_count": 4,
     "metadata": {},
     "output_type": "execute_result"
    }
   ],
   "source": [
    "article.keywords"
   ]
  },
  {
   "cell_type": "markdown",
   "metadata": {},
   "source": [
    "Leggiamo il testo dell'articolo:"
   ]
  },
  {
   "cell_type": "code",
   "execution_count": 5,
   "metadata": {},
   "outputs": [
    {
     "name": "stdout",
     "output_type": "stream",
     "text": [
      "CORTE FRANCA (BS). Nessuna novità per i tristellati, 33 nuovi ristoranti con 1 stella - tra cui molti giovani (16 under 35) e solo una donna - e tanto Sud, con la Campania che festeggia gli unici due nuovi bistellati: Krèsios di Giuseppe Iannotti a Telese Terme (Benevento) e Tre olivi di Giovanni Solofra a Paestum (Salerno), che passa da zero a due macaron.\n",
      "\n",
      "I tristellati in platea Sono queste le novità della Guida Michelin 2022, presentata al Relais Franciacorta di Corte Franca: in tutto 378 ristoranti stellati (7 in più dell'edizione precedente), tra cui 329 con un macaron, 38 con 2 e 11 con 3. Escono dalla Guida 26 ristoranti, 15 perché non confermano la stella e 11 perché, anche a causa della pandemia, hanno chiuso.\n",
      "\n",
      "Questa 67ª edizione è un'edizione senza grandi novità e stravolgimenti. Non toglie stelle ai \"piani alti\" (intatti bistellati e tristellati) e non promuove nuovi Tre stelle nonostante molti sperassero che all'Olimpo degli 11 italiani potesse aggiungersi un ristorante del Sud. Non succede. I pronostici non si avverano - come spesso accade con la Rossa - nemmeno con il Lido 84, ristorante dei fratelli Camanini che un paio di mesi fa è volato al quindicesimo posto della classifica The World's 50 Best Restaurants e che in tanti scommettevano avrebbe agguantato la seconda stella. I Camanini, al lavoro come sempre nel ristorante sul Garda, preferiscono non commentare se non che “siamo già felici così”.\n",
      "\n",
      "50 Best Restaurants: il Noma di Copenaghen miglior ristorante del mondo dalla nostra inviata Elisabetta Pagani 05 Ottobre 2021 dalla nostra inviata Elisabetta Pagani Giovanni Solofra, passato da zero a due stelle: “Io e la mia compagna Roberta abbiamo aperto Tre olivi a luglio 2020 - commenta emozionato - ma tra chiusure e aperture a causa della pandemia sono stati solo 9 i mesi effettivi di lavoro. Prendere due stelle in 9 mesi è ancora più stupefacente”. La sua Campania è la regione che prende più stelle (5 ristoranti con un macaron e due con 2), seguita da Veneto (5), Lombardia (4) e Sardegna (3).\n",
      "\n",
      "Guida Michelin 2022, da zero a due stelle: l'esplosione di gioia dello chef Giovanni Solofra la Lombardia mantiene il primato grazie ai 56 ristoranti. La Campania si aggiudica appunto il record annuale di novità, sette, issandosi al secondo posto con 48 ristoranti. Scende così di un gradino il Piemonte, con 45 ristoranti e 1 novità (Unforgettable di Torino, e Damiano Nigro che mantiene la stella dopo il trasferimento alla Morra), segue la Toscana in quarta posizione e il Veneto in quinta. Tra le province Napoli si conferma prima, seguita da Roma in seconda posizione, terza Bolzano davanti a Cuneo con Milano che scivola in quinta posizione con 18 ristoranti stellati. Tra le curiosità, ben due ristoranti prendono la stella a Porto San Giorgio (Fermo), l'Arcade di Sergeev Nikita e Retroscena di Richard Abouzaki e Pierpaolo Ferracuti.\n",
      "\n",
      "E la Michelin \"dimentica\" le donne: solo una nuova stella su 33 premiati di Eleonora Cozzella 23 Novembre 2021 di Eleonora Cozzella 16 sono di giovani under 35. Tra tutti i nuovi premiati, però, ce ne è solo uno guidato da una donna, Solaika Marrocco del Primo Restaurant a Lecce, che ottiene anche il riconoscimento di giovane chef dell'anno. “Dovrebbero essercene molte di più - ammette il direttore internazionale della Guida, Gwendal Poullennec - ma il lavoro degli ispettori riflette la realtà. In questa industria le donne sono poche, ma sono convinto che sia in atto un cambiamento. Questo settore è stato molto colpito dal Covid - continua - ma ha saputo reagire, come dimostrano le tante novità al Sud e nelle isole. La pandemia ha innescato un cambiamento sul modo di vivere il lavoro, in termini di benessere, che credo vedrà emergere più donne”. Anche nelle scorse edizioni le donne erano inesistenti o quasi: nessuna nella Guida 2021 e solo una, Karime López, nel 2020. Numeri che fanno riflettere sulla situazione delle donne nel settore della ristorazione.\n",
      "\n",
      "La chef Nadia Santini Se c'è un'unica nuova donna stellata, ce ne sono due nei premi speciali: sul palco salgono infatti Nadia Santini del tristellato Dal Pescatore a Canneto sull'Oglio (Mantova), chef mentore 2022, e Sonja Egger di Castelbello (Bolzano), miglior sommelier dell'anno. Tra i riconoscimenti speciali anche Matteo Zattile del Pagliaccio di Roma, premiato per il miglior servizio di sala (\"Sa mettere in scena una vera performance teatrale”).\n",
      "\n",
      "La sommelier Sonja Egger L'anno scorso la Michelin aveva introdotto anche in Italia la stella verde, che viene data a ristoranti, stellati o meno, che investono sulla sostenibilità ambientale e alimentare: ai 13 dell'edizione 2021 si aggiungono i 17 di quest'anno. Un anno che vede i ristoranti alla vigilia di una nuova stagione difficile a causa della pandemia, tra contagi in rialzo e lo spettro delle chiusure. Con l'auspicio, però, che le serrande rimangano alzate e che si possa davvero uscire \"a riveder le stelle\", si augura Marco Do, direttore della comunicazione di Michelin Italia, annunciando le 35 nuove dell'Italia del 2022.\n",
      "\n",
      "Mangiare bene a prezzi contenuti: ecco i nuovi Bib Gourmand della Michelin a cura di Lara De Luna 18 Novembre 2021 a cura di Lara De Luna\n",
      "\n",
      "La Guida Michelin sarà in librerie dal 3 dicembre, mentre la app Michelin ristoranti è già disponibile gratuitamente.\n",
      "\n",
      "TUTTI I RICONOSCIMENTI\n",
      "\n",
      "- 2 NUOVI DUE STELLE\n",
      "\n",
      "Krèsios di Giuseppe Iannotti a Telese Terme (Bn)\n",
      "\n",
      "Tre Olivi di Giovanni Solofra a Paestum (Sa) --- da 0 a 2 stelle\n",
      "\n",
      "- 33 NUOVI UNA STELLA\n",
      "\n",
      "Luigi Lepore di Luigi Lepore a Lasmezia Terme (Cz)\n",
      "\n",
      "Hyle di Antonio Biafora a San Giovanni in Fiore (Cs)\n",
      "\n",
      "Aria di Paolo Barrale a Napoli\n",
      "\n",
      "Contaminazioni Restaurant di Giuseppe Molaro a Somma Vesuviana (Na)\n",
      "\n",
      "Li Galli di Savio Perna a Positano (Sa)\n",
      "\n",
      "Rear Restaurant di Francesco Franzese a Nola (Na)\n",
      "\n",
      "Cannavacciuolo Countryside di Nicola Somma a Vico Equense (Na)\n",
      "\n",
      "Mater1a Pr1ma di Fabio Verrelli D'Amico a Pontinia (Lt)\n",
      "\n",
      "Osteria Acquarol di Alessandro Bellingeri a San Michele (Bz)\n",
      "\n",
      "1908 di Stephan Zippl a Renon (Bz) --- prende anche la stella verde\n",
      "\n",
      "San Giorgio di Graziano Caccioppoli a Genova\n",
      "\n",
      "Orto by Jorg Giubbani di Jorg Giubbani a Moneglia (Ge)\n",
      "\n",
      "L'arcade di Sergeev Nikita a Porto San Giorgio (Fermo)\n",
      "\n",
      "Retroscena di Richard Abouzaki e Pierpaolo Ferracuti a Porto San Giorgio (Fermo)\n",
      "\n",
      "Bianca sul lago di Emanuele Petrosino a Oggiono (Lc)\n",
      "\n",
      "Felix lo Basso di Felice Lo Basso a Milano\n",
      "\n",
      "La speranzina di Fabrizio Molteni a Sirmione (Bs)\n",
      "\n",
      "Osteria degli Assonica di Alex e Vittorio Manzoni a Sorisole (Bg)\n",
      "\n",
      "Somu di Salvatore Cammeda a Baia Sardinia (Ss)\n",
      "\n",
      "Gusto di Claudio Sadler a San Teodoro (Ss)\n",
      "\n",
      "Fradis Minoris di Francesco Stara a Pula (Ca) --- prende anche la stella verde\n",
      "\n",
      "Nazionale di Fabio Ingallinera e Maurizio Macario a Vernante (Cn)\n",
      "\n",
      "Unforgettable di Christian Mandura a Torino\n",
      "\n",
      "Octavin di Luca Fracassi a Arezzo\n",
      "\n",
      "L'acciuga di Marco Lagrimino a Perugia\n",
      "\n",
      "La Favellina di Federico Pettenuzzo a Malo (Vi)\n",
      "\n",
      "Local di Matteo Tagliapietra a Venezia\n",
      "\n",
      "Locanda Le 4 ciacole di Francesco Baldissarutti a Roverchiara (Vr)\n",
      "\n",
      "Wistèria di Simone Selva a Venezia\n",
      "\n",
      "Zanza XVI di Stefano Vio a Venezia\n",
      "\n",
      "Gagini Restaurant di Mauricio Zillo a Palermo\n",
      "\n",
      "Porta di Basso di Domenico Cilenti a Peschici (Fg)\n",
      "\n",
      "Primo Restaurant di Solaika Marrocco a Lecce --- premio giovane chef dell'anno\n",
      "\n",
      "17 NUOVE STELLE VERDI\n",
      "\n",
      "Ps Ristorante a Cerreto Guidi (Fi)\n",
      "\n",
      "Mater Terrae a Roma\n",
      "\n",
      "Lerchner's in Runggen a San Lorenzo di Sebato (Bz)\n",
      "\n",
      "Antica Locanda al Cervo a San Genesio (Bz)\n",
      "\n",
      "Agritur El Mas a Moena (Tn)\n",
      "\n",
      "Gambrinus a San Polo di Piave (Tv)\n",
      "\n",
      "Venissa a Venezia\n",
      "\n",
      "Sanbrite a Cortina d'Ampezzo (Bl)\n",
      "\n",
      "Le Trabe a Paestum (Sa)\n",
      "\n",
      "Signum a Salina, Isole Eolie (Me)\n",
      "\n",
      "Aminta resort a Genazzano (Rm)\n",
      "\n",
      "La cru a Romagnano (Vr)\n",
      "\n",
      "La Preséf a Mantello (So)\n",
      "\n",
      "Casamatta a Manduria (Ta)\n",
      "\n",
      "Terra a Sarentino (Bz)\n",
      "\n",
      "1908 a Renon (Bz)\n",
      "\n",
      "Fradis Minoris di Francesco Stara a Pula (Ca)\n",
      "\n",
      "CONFERMATI GLI 11 TRE STELLE\n",
      "\n",
      "Piazza Duomo ad Alba (Cn)\n",
      "\n",
      "Da Vittorio a Brusaporto (Bg)\n",
      "\n",
      "St. Hubertus, a San Cassiano (Bz)\n",
      "\n",
      "Le Calandre a Rubano (Pd)\n",
      "\n",
      "Dal Pescatore a Canneto Sull’Oglio (Mn)\n",
      "\n",
      "Osteria Francescana a Modena\n",
      "\n",
      "Enoteca Pinchiorri a Firenze\n",
      "\n",
      "La Pergola a Roma\n",
      "\n",
      "Reale a Castel di Sangro (Aq)\n",
      "\n",
      "Mauro Uliassi a Senigallia (An)\n",
      "\n",
      "Enrico Bartolini al Mudec a Milano.\n"
     ]
    }
   ],
   "source": [
    "print(article.text)"
   ]
  },
  {
   "cell_type": "markdown",
   "metadata": {},
   "source": [
    "Possiamo anche chiedere il riassunto dell'articolo"
   ]
  },
  {
   "cell_type": "code",
   "execution_count": 6,
   "metadata": {},
   "outputs": [
    {
     "name": "stdout",
     "output_type": "stream",
     "text": [
      "Escono dalla Guida 26 ristoranti, 15 perché non confermano la stella e 11 perché, anche a causa della pandemia, hanno chiuso.\n",
      "Guida Michelin 2022, da zero a due stelle: l'esplosione di gioia dello chef Giovanni Solofra la Lombardia mantiene il primato grazie ai 56 ristoranti.\n",
      "La Campania si aggiudica appunto il record annuale di novità, sette, issandosi al secondo posto con 48 ristoranti.\n",
      "“Dovrebbero essercene molte di più - ammette il direttore internazionale della Guida, Gwendal Poullennec - ma il lavoro degli ispettori riflette la realtà.\n",
      "Con l'auspicio, però, che le serrande rimangano alzate e che si possa davvero uscire \"a riveder le stelle\", si augura Marco Do, direttore della comunicazione di Michelin Italia, annunciando le 35 nuove dell'Italia del 2022.\n"
     ]
    }
   ],
   "source": [
    "print(article.summary)"
   ]
  },
  {
   "cell_type": "markdown",
   "metadata": {},
   "source": [
    "Possiamo tokenizzare in frasi il sommario dell'articolo"
   ]
  },
  {
   "cell_type": "code",
   "execution_count": 11,
   "metadata": {},
   "outputs": [
    {
     "name": "stdout",
     "output_type": "stream",
     "text": [
      "Output data (via Sentence Tokenizer):\n",
      "\tEscono dalla Guida 26 ristoranti, 15 perché non confermano la stella e 11 perché, anche a causa della pandemia, hanno chiuso. |\n",
      "\tGuida Michelin 2022, da zero a due stelle: l'esplosione di gioia dello chef Giovanni Solofra la Lombardia mantiene il primato grazie ai 56 ristoranti. |\n",
      "\tLa Campania si aggiudica appunto il record annuale di novità, sette, issandosi al secondo posto con 48 ristoranti. |\n",
      "\t“Dovrebbero essercene molte di più - ammette il direttore internazionale della Guida, Gwendal Poullennec - ma il lavoro degli ispettori riflette la realtà. |\n",
      "\tCon l'auspicio, però, che le serrande rimangano alzate e che si possa davvero uscire \"a riveder le stelle\", si augura Marco Do, direttore della comunicazione di Michelin Italia, annunciando le 35 nuove dell'Italia del 2022. |\n"
     ]
    }
   ],
   "source": [
    "sentence_tokenizer_output = sent_tokenize(article.summary)\n",
    "print('Output data (via Sentence Tokenizer):') \n",
    "for token in sentence_tokenizer_output:    \n",
    "    print('\\t{}'.format(token),\"|\")"
   ]
  },
  {
   "cell_type": "markdown",
   "metadata": {},
   "source": [
    "# modello di Markov\n",
    "Chiediamo alla nostra AI di imparare uno stile e creare frasi in base a questo stile imparato"
   ]
  },
  {
   "cell_type": "code",
   "execution_count": 12,
   "metadata": {},
   "outputs": [],
   "source": [
    "import markovify"
   ]
  },
  {
   "cell_type": "markdown",
   "metadata": {},
   "source": [
    "Facciamo imparare la \"Divina Commedia\" alla nostra AI.\n",
    "Il testo della Divina Commedia lo potete trovare in rete su molti siti legali :)"
   ]
  },
  {
   "cell_type": "code",
   "execution_count": 13,
   "metadata": {},
   "outputs": [],
   "source": [
    "\n",
    "# legge la Divina Commedia\n",
    "\n",
    "with open(\"divina commedia.txt\") as f:\n",
    "    text = f.read()\n",
    "\n",
    "# addestra il modello di Markov\n",
    "text_model = markovify.Text(text)\n"
   ]
  },
  {
   "cell_type": "markdown",
   "metadata": {},
   "source": [
    "Chiediamo alla nostra AI di generare 5 frasi usando lo stile imparato."
   ]
  },
  {
   "cell_type": "code",
   "execution_count": 14,
   "metadata": {},
   "outputs": [
    {
     "name": "stdout",
     "output_type": "stream",
     "text": [
      "O animal grazioso e benigno che visitando vai per l'aere maligno, si` forte guizzavan le giunte, che spezzate averien ritorte e strambe.\n",
      "\n",
      "Se vuoi saper chi son cotesti due, la valle cerno, vermiglie come se di foco uscite fossero.\n",
      "\n",
      "Lo mio maestro allora in biechi; guardommi un poco, ma non me n'accorgo se non etterne, e io sol uno m'apparecchiava a sostener la guerra si` del tutto impedito sovra colui ch'era disteso in croce pur da color che non veggion pur l'ovra, ma per suono e` noto d'un ruscelletto che quivi e` sommersa.\n",
      "\n",
      "Cosi` parlammo infino al picciol vermo, cascaron tutti, e poi son giu` volte.\n",
      "\n",
      "Qui le trascineremo, e per la freddura ciascun sentimento cessato avesse del mio sangue pianga la colpa pentuta e` rimossa.\n",
      "\n"
     ]
    }
   ],
   "source": [
    "for i in range(5):\n",
    "    print(text_model.make_sentence())\n",
    "    print()"
   ]
  },
  {
   "cell_type": "markdown",
   "metadata": {},
   "source": [
    "Chiediamo alla nostra AI 3 frasi di non più di 80 caratteri."
   ]
  },
  {
   "cell_type": "code",
   "execution_count": 15,
   "metadata": {},
   "outputs": [
    {
     "name": "stdout",
     "output_type": "stream",
     "text": [
      "La divina giustizia di qua nuova schiera s'auna.\n",
      "Or ci movemmo con la fronte com'avesse l'inferno a gran dispitto.\n",
      "Io fei gibbetto a me vegne: li margini fan via, che non v'ebbe alcun ritegno.\n"
     ]
    }
   ],
   "source": [
    "for i in range(3):\n",
    "    print(text_model.make_short_sentence(80))"
   ]
  },
  {
   "cell_type": "markdown",
   "metadata": {},
   "source": [
    "Vediamo un corpus di giurisprudenza.\n",
    "Facciamo imparare il \"Codice di Procedura Penale\" alla nostra AI."
   ]
  },
  {
   "cell_type": "code",
   "execution_count": 16,
   "metadata": {},
   "outputs": [],
   "source": [
    "# lettura del file\n",
    "with open(\"codice procedura penale.txt\") as f:\n",
    "    text = f.read()\n",
    "\n",
    "# addestramento del modello\n",
    "text_model = markovify.Text(text)"
   ]
  },
  {
   "cell_type": "markdown",
   "metadata": {},
   "source": [
    "Chiediamo alla nostra AI di generare 5 frasi usando lo stile imparato."
   ]
  },
  {
   "cell_type": "code",
   "execution_count": 37,
   "metadata": {},
   "outputs": [
    {
     "name": "stdout",
     "output_type": "stream",
     "text": [
      "Assistenza al giudice incompetente 1.\n",
      "\n",
      "Con l'ordinanza che ha deciso in ordine all'applicazione della misura cautelare personale; in applicazione dell'art.\n",
      "\n",
      "La riunione e la direzione della discussione nei modi stabiliti dalle leggi di ordinamento giudiziario.\n",
      "\n",
      "Notificazioni urgenti a mezzo di raccomandata alla cancelleria del giudice al pubblico ministero deve esprimere il consenso, il giudice procede.\n",
      "\n",
      "L'udienza si svolge nelle forme ordinarie quando il programma di recupero nell'ambito di una sentenza penale di assoluzione 1.\n",
      "\n"
     ]
    }
   ],
   "source": [
    "for i in range(5):\n",
    "    print(text_model.make_sentence())\n",
    "    print()"
   ]
  },
  {
   "cell_type": "code",
   "execution_count": 27,
   "metadata": {},
   "outputs": [
    {
     "name": "stdout",
     "output_type": "stream",
     "text": [
      "Si applicano le disposizioni degli articoli 187 e 192, comma 3.\n",
      "Contro il decreto del pubblico ministero ne fa dare avviso alle parti private.\n",
      "Custodia delle cose sequestrate.\n"
     ]
    }
   ],
   "source": [
    "for i in range(3):\n",
    "    print(text_model.make_short_sentence(80))"
   ]
  }
 ],
 "metadata": {
  "kernelspec": {
   "display_name": "Python 3.9.13 64-bit (microsoft store)",
   "language": "python",
   "name": "python3"
  },
  "language_info": {
   "codemirror_mode": {
    "name": "ipython",
    "version": 3
   },
   "file_extension": ".py",
   "mimetype": "text/x-python",
   "name": "python",
   "nbconvert_exporter": "python",
   "pygments_lexer": "ipython3",
   "version": "3.9.13"
  },
  "orig_nbformat": 4,
  "vscode": {
   "interpreter": {
    "hash": "b62038c88d86df113664c67e0595a7e5d5857d9b34442a8f39dffa4462ab8f77"
   }
  }
 },
 "nbformat": 4,
 "nbformat_minor": 2
}
